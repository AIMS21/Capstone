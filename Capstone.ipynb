{
  "nbformat": 4,
  "nbformat_minor": 0,
  "metadata": {
    "colab": {
      "name": "Capstone.ipynb",
      "provenance": [],
      "collapsed_sections": [],
      "toc_visible": true
    },
    "kernelspec": {
      "name": "python3",
      "display_name": "Python 3"
    },
    "language_info": {
      "name": "python"
    }
  },
  "cells": [
    {
      "cell_type": "markdown",
      "metadata": {
        "id": "T3DlKOk3YxQs"
      },
      "source": [
        "# Capstone Project\n",
        "\n"
      ]
    },
    {
      "cell_type": "markdown",
      "metadata": {
        "id": "V9w3hBB_aHlq"
      },
      "source": [
        "**Team Members**\n",
        "\n",
        "> Alexis Mercado \n",
        "\n",
        "> Gerardo Moreno\n",
        "\n",
        "> Julio Sibria"
      ]
    },
    {
      "cell_type": "markdown",
      "metadata": {
        "id": "jXbnfdX7ZPPY"
      },
      "source": [
        "# Download Data"
      ]
    },
    {
      "cell_type": "markdown",
      "metadata": {
        "id": "6Pt3JL6aat6R"
      },
      "source": [
        "download data ..."
      ]
    },
    {
      "cell_type": "code",
      "metadata": {
        "id": "fvtgwRq5aqb_"
      },
      "source": [
        "# Download Data"
      ],
      "execution_count": null,
      "outputs": []
    },
    {
      "cell_type": "markdown",
      "metadata": {
        "id": "mb4TJqrRZRLr"
      },
      "source": [
        "# Load the Data"
      ]
    },
    {
      "cell_type": "markdown",
      "metadata": {
        "id": "U2E3rD6yavG3"
      },
      "source": [
        "Load data ..."
      ]
    },
    {
      "cell_type": "code",
      "metadata": {
        "id": "vJD33nknauzo"
      },
      "source": [
        "# Load Data"
      ],
      "execution_count": null,
      "outputs": []
    },
    {
      "cell_type": "markdown",
      "metadata": {
        "id": "3W6cDZhgZJyt"
      },
      "source": [
        "# EDA\n"
      ]
    },
    {
      "cell_type": "markdown",
      "metadata": {
        "id": "ejZFFTvJaxMQ"
      },
      "source": [
        "Exploratory Data Analysis"
      ]
    },
    {
      "cell_type": "code",
      "metadata": {
        "id": "zo1e1iIKarky"
      },
      "source": [
        "# EDA"
      ],
      "execution_count": null,
      "outputs": []
    },
    {
      "cell_type": "markdown",
      "metadata": {
        "id": "yQA3Rz9rZcV5"
      },
      "source": [
        "# Train Test Split"
      ]
    },
    {
      "cell_type": "markdown",
      "metadata": {
        "id": "XhaP2Zjlaxs9"
      },
      "source": [
        "Train Test Split ..."
      ]
    },
    {
      "cell_type": "code",
      "metadata": {
        "id": "cPmaYGUeasAY"
      },
      "source": [
        "# Train test split"
      ],
      "execution_count": null,
      "outputs": []
    },
    {
      "cell_type": "markdown",
      "metadata": {
        "id": "IRvxYJoSZMvB"
      },
      "source": [
        "# Model"
      ]
    },
    {
      "cell_type": "markdown",
      "metadata": {
        "id": "oxAear9Vazb9"
      },
      "source": [
        "Model ..."
      ]
    },
    {
      "cell_type": "code",
      "metadata": {
        "id": "Xt3v2IjJasg0"
      },
      "source": [
        "# Build Model"
      ],
      "execution_count": null,
      "outputs": []
    },
    {
      "cell_type": "markdown",
      "metadata": {
        "id": "cCBSP43PZ_Kv"
      },
      "source": [
        "# Making Predictions\n"
      ]
    },
    {
      "cell_type": "markdown",
      "metadata": {
        "id": "cLzm_VO_az7Q"
      },
      "source": [
        "Predictions ..."
      ]
    },
    {
      "cell_type": "code",
      "metadata": {
        "id": "hnlwDQEZatAu"
      },
      "source": [
        "#prediction"
      ],
      "execution_count": null,
      "outputs": []
    }
  ]
}